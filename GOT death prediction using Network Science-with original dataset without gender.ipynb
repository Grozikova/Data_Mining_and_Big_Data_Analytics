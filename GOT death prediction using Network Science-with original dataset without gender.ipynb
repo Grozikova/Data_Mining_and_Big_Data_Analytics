{
 "cells": [
  {
   "cell_type": "markdown",
   "id": "08d85e25",
   "metadata": {},
   "source": [
    "## Network Science Predicts Who Dies Next in Game of Thrones"
   ]
  },
  {
   "cell_type": "markdown",
   "id": "abe43f32",
   "metadata": {},
   "source": [
    "This code is exact copy of the other file. The only difference is that it employs the dataset without gender variable. So the models make predictions based on solely network measures of the characters."
   ]
  },
  {
   "cell_type": "code",
   "execution_count": 5,
   "id": "66ae4c3e",
   "metadata": {},
   "outputs": [],
   "source": [
    "import numpy as np\n",
    "import pandas as pd\n",
    "import seaborn as sns\n",
    "import matplotlib.pyplot as plt\n",
    "\n",
    "from sklearn.linear_model import LogisticRegression\n",
    "from sklearn import svm\n",
    "from sklearn.ensemble import RandomForestClassifier\n",
    "from sklearn.neighbors import KNeighborsClassifier\n",
    "from sklearn.tree import DecisionTreeClassifier \n",
    "\n",
    "from sklearn.model_selection import cross_val_score, cross_val_predict, GridSearchCV, KFold, train_test_split \n",
    "from sklearn.metrics import roc_auc_score, accuracy_score, roc_curve \n",
    "from sklearn.metrics import confusion_matrix, classification_report"
   ]
  },
  {
   "cell_type": "code",
   "execution_count": 78,
   "id": "92531a51",
   "metadata": {},
   "outputs": [],
   "source": [
    "# Loading the dataset\n",
    "df = pd.read_csv(\"got_ed.csv\", header = 0, sep = ';')"
   ]
  },
  {
   "cell_type": "markdown",
   "id": "634886c7",
   "metadata": {},
   "source": [
    "### Data Preparation and Feature Engineering"
   ]
  },
  {
   "cell_type": "code",
   "execution_count": 79,
   "id": "9e1b213e",
   "metadata": {},
   "outputs": [
    {
     "data": {
      "text/plain": [
       "id                      0\n",
       "died                    0\n",
       "degree                  0\n",
       "weighted degree         0\n",
       "pageranks               0\n",
       "clustering              0\n",
       "eigencentrality         0\n",
       "closnesscentrality      0\n",
       "betweenesscentrality    0\n",
       "dtype: int64"
      ]
     },
     "execution_count": 79,
     "metadata": {},
     "output_type": "execute_result"
    }
   ],
   "source": [
    "# Check for missing values\n",
    "df.isna().sum()"
   ]
  },
  {
   "cell_type": "code",
   "execution_count": 80,
   "id": "ed2ebc58",
   "metadata": {},
   "outputs": [],
   "source": [
    "df.dropna(inplace=True)"
   ]
  },
  {
   "cell_type": "code",
   "execution_count": 81,
   "id": "5097fad3",
   "metadata": {},
   "outputs": [
    {
     "data": {
      "text/html": [
       "<div>\n",
       "<style scoped>\n",
       "    .dataframe tbody tr th:only-of-type {\n",
       "        vertical-align: middle;\n",
       "    }\n",
       "\n",
       "    .dataframe tbody tr th {\n",
       "        vertical-align: top;\n",
       "    }\n",
       "\n",
       "    .dataframe thead th {\n",
       "        text-align: right;\n",
       "    }\n",
       "</style>\n",
       "<table border=\"1\" class=\"dataframe\">\n",
       "  <thead>\n",
       "    <tr style=\"text-align: right;\">\n",
       "      <th></th>\n",
       "      <th>id</th>\n",
       "      <th>died</th>\n",
       "      <th>degree</th>\n",
       "      <th>weighted degree</th>\n",
       "      <th>pageranks</th>\n",
       "      <th>clustering</th>\n",
       "      <th>eigencentrality</th>\n",
       "      <th>closnesscentrality</th>\n",
       "      <th>betweenesscentrality</th>\n",
       "    </tr>\n",
       "  </thead>\n",
       "  <tbody>\n",
       "    <tr>\n",
       "      <th>0</th>\n",
       "      <td>Joffrey Baratheon</td>\n",
       "      <td>yes</td>\n",
       "      <td>34</td>\n",
       "      <td>73</td>\n",
       "      <td>0.010648</td>\n",
       "      <td>0.567251</td>\n",
       "      <td>0.516207</td>\n",
       "      <td>0.510730</td>\n",
       "      <td>0.005207</td>\n",
       "    </tr>\n",
       "    <tr>\n",
       "      <th>1</th>\n",
       "      <td>Benjen Stark</td>\n",
       "      <td>yes</td>\n",
       "      <td>23</td>\n",
       "      <td>34</td>\n",
       "      <td>0.007571</td>\n",
       "      <td>0.651515</td>\n",
       "      <td>0.411720</td>\n",
       "      <td>0.508547</td>\n",
       "      <td>0.009492</td>\n",
       "    </tr>\n",
       "    <tr>\n",
       "      <th>2</th>\n",
       "      <td>Theon Greyjoy</td>\n",
       "      <td>no</td>\n",
       "      <td>43</td>\n",
       "      <td>155</td>\n",
       "      <td>0.013937</td>\n",
       "      <td>0.324111</td>\n",
       "      <td>0.507033</td>\n",
       "      <td>0.548387</td>\n",
       "      <td>0.030976</td>\n",
       "    </tr>\n",
       "    <tr>\n",
       "      <th>3</th>\n",
       "      <td>Jon Snow Stark</td>\n",
       "      <td>no</td>\n",
       "      <td>74</td>\n",
       "      <td>374</td>\n",
       "      <td>0.024013</td>\n",
       "      <td>0.240216</td>\n",
       "      <td>0.698632</td>\n",
       "      <td>0.595000</td>\n",
       "      <td>0.122631</td>\n",
       "    </tr>\n",
       "    <tr>\n",
       "      <th>4</th>\n",
       "      <td>Melisandre</td>\n",
       "      <td>no</td>\n",
       "      <td>15</td>\n",
       "      <td>59</td>\n",
       "      <td>0.005920</td>\n",
       "      <td>0.535714</td>\n",
       "      <td>0.106703</td>\n",
       "      <td>0.399329</td>\n",
       "      <td>0.000965</td>\n",
       "    </tr>\n",
       "  </tbody>\n",
       "</table>\n",
       "</div>"
      ],
      "text/plain": [
       "                  id died  degree  weighted degree  pageranks  clustering  \\\n",
       "0  Joffrey Baratheon  yes      34               73   0.010648    0.567251   \n",
       "1       Benjen Stark  yes      23               34   0.007571    0.651515   \n",
       "2      Theon Greyjoy   no      43              155   0.013937    0.324111   \n",
       "3     Jon Snow Stark   no      74              374   0.024013    0.240216   \n",
       "4         Melisandre   no      15               59   0.005920    0.535714   \n",
       "\n",
       "   eigencentrality  closnesscentrality  betweenesscentrality  \n",
       "0         0.516207            0.510730              0.005207  \n",
       "1         0.411720            0.508547              0.009492  \n",
       "2         0.507033            0.548387              0.030976  \n",
       "3         0.698632            0.595000              0.122631  \n",
       "4         0.106703            0.399329              0.000965  "
      ]
     },
     "execution_count": 81,
     "metadata": {},
     "output_type": "execute_result"
    }
   ],
   "source": [
    "df.head()"
   ]
  },
  {
   "cell_type": "code",
   "execution_count": 82,
   "id": "5c18ba31",
   "metadata": {},
   "outputs": [
    {
     "name": "stdout",
     "output_type": "stream",
     "text": [
      "                  id  died  degree  weighted degree  pageranks  clustering  \\\n",
      "0  Joffrey Baratheon     1      34               73   0.010648    0.567251   \n",
      "1       Benjen Stark     1      23               34   0.007571    0.651515   \n",
      "2      Theon Greyjoy     0      43              155   0.013937    0.324111   \n",
      "3     Jon Snow Stark     0      74              374   0.024013    0.240216   \n",
      "4         Melisandre     0      15               59   0.005920    0.535714   \n",
      "\n",
      "   eigencentrality  closnesscentrality  betweenesscentrality  \n",
      "0         0.516207            0.510730              0.005207  \n",
      "1         0.411720            0.508547              0.009492  \n",
      "2         0.507033            0.548387              0.030976  \n",
      "3         0.698632            0.595000              0.122631  \n",
      "4         0.106703            0.399329              0.000965  \n"
     ]
    }
   ],
   "source": [
    "# Convert 'died' column to numerical values\n",
    "df['died'] = df['died'].replace({'yes': 1, 'no': 0})\n",
    "\n",
    "# Print the updated dataframe\n",
    "print(df.head())"
   ]
  },
  {
   "cell_type": "code",
   "execution_count": 83,
   "id": "cd7e043d",
   "metadata": {},
   "outputs": [],
   "source": [
    "df['died'] = df['died'].astype('category')"
   ]
  },
  {
   "cell_type": "code",
   "execution_count": 84,
   "id": "6b32a1f7",
   "metadata": {},
   "outputs": [
    {
     "data": {
      "text/html": [
       "<div>\n",
       "<style scoped>\n",
       "    .dataframe tbody tr th:only-of-type {\n",
       "        vertical-align: middle;\n",
       "    }\n",
       "\n",
       "    .dataframe tbody tr th {\n",
       "        vertical-align: top;\n",
       "    }\n",
       "\n",
       "    .dataframe thead th {\n",
       "        text-align: right;\n",
       "    }\n",
       "</style>\n",
       "<table border=\"1\" class=\"dataframe\">\n",
       "  <thead>\n",
       "    <tr style=\"text-align: right;\">\n",
       "      <th></th>\n",
       "      <th>degree</th>\n",
       "      <th>weighted degree</th>\n",
       "      <th>pageranks</th>\n",
       "      <th>clustering</th>\n",
       "      <th>eigencentrality</th>\n",
       "      <th>closnesscentrality</th>\n",
       "      <th>betweenesscentrality</th>\n",
       "    </tr>\n",
       "  </thead>\n",
       "  <tbody>\n",
       "    <tr>\n",
       "      <th>count</th>\n",
       "      <td>94.000000</td>\n",
       "      <td>94.000000</td>\n",
       "      <td>94.000000</td>\n",
       "      <td>94.000000</td>\n",
       "      <td>94.000000</td>\n",
       "      <td>94.000000</td>\n",
       "      <td>94.000000</td>\n",
       "    </tr>\n",
       "    <tr>\n",
       "      <th>mean</th>\n",
       "      <td>26.265957</td>\n",
       "      <td>69.819149</td>\n",
       "      <td>0.008974</td>\n",
       "      <td>0.591838</td>\n",
       "      <td>0.295524</td>\n",
       "      <td>0.455617</td>\n",
       "      <td>0.013240</td>\n",
       "    </tr>\n",
       "    <tr>\n",
       "      <th>std</th>\n",
       "      <td>19.154817</td>\n",
       "      <td>69.947747</td>\n",
       "      <td>0.005517</td>\n",
       "      <td>0.204082</td>\n",
       "      <td>0.225777</td>\n",
       "      <td>0.063597</td>\n",
       "      <td>0.027552</td>\n",
       "    </tr>\n",
       "    <tr>\n",
       "      <th>min</th>\n",
       "      <td>3.000000</td>\n",
       "      <td>5.000000</td>\n",
       "      <td>0.002947</td>\n",
       "      <td>0.231383</td>\n",
       "      <td>0.008257</td>\n",
       "      <td>0.344928</td>\n",
       "      <td>0.000000</td>\n",
       "    </tr>\n",
       "    <tr>\n",
       "      <th>25%</th>\n",
       "      <td>15.000000</td>\n",
       "      <td>30.250000</td>\n",
       "      <td>0.005610</td>\n",
       "      <td>0.425055</td>\n",
       "      <td>0.148891</td>\n",
       "      <td>0.412122</td>\n",
       "      <td>0.000606</td>\n",
       "    </tr>\n",
       "    <tr>\n",
       "      <th>50%</th>\n",
       "      <td>21.000000</td>\n",
       "      <td>47.000000</td>\n",
       "      <td>0.007028</td>\n",
       "      <td>0.586364</td>\n",
       "      <td>0.233917</td>\n",
       "      <td>0.444861</td>\n",
       "      <td>0.002267</td>\n",
       "    </tr>\n",
       "    <tr>\n",
       "      <th>75%</th>\n",
       "      <td>26.750000</td>\n",
       "      <td>76.750000</td>\n",
       "      <td>0.009593</td>\n",
       "      <td>0.731818</td>\n",
       "      <td>0.343262</td>\n",
       "      <td>0.494303</td>\n",
       "      <td>0.008305</td>\n",
       "    </tr>\n",
       "    <tr>\n",
       "      <th>max</th>\n",
       "      <td>92.000000</td>\n",
       "      <td>374.000000</td>\n",
       "      <td>0.027764</td>\n",
       "      <td>1.000000</td>\n",
       "      <td>1.000000</td>\n",
       "      <td>0.626316</td>\n",
       "      <td>0.127912</td>\n",
       "    </tr>\n",
       "  </tbody>\n",
       "</table>\n",
       "</div>"
      ],
      "text/plain": [
       "          degree  weighted degree  pageranks  clustering  eigencentrality  \\\n",
       "count  94.000000        94.000000  94.000000   94.000000        94.000000   \n",
       "mean   26.265957        69.819149   0.008974    0.591838         0.295524   \n",
       "std    19.154817        69.947747   0.005517    0.204082         0.225777   \n",
       "min     3.000000         5.000000   0.002947    0.231383         0.008257   \n",
       "25%    15.000000        30.250000   0.005610    0.425055         0.148891   \n",
       "50%    21.000000        47.000000   0.007028    0.586364         0.233917   \n",
       "75%    26.750000        76.750000   0.009593    0.731818         0.343262   \n",
       "max    92.000000       374.000000   0.027764    1.000000         1.000000   \n",
       "\n",
       "       closnesscentrality  betweenesscentrality  \n",
       "count           94.000000             94.000000  \n",
       "mean             0.455617              0.013240  \n",
       "std              0.063597              0.027552  \n",
       "min              0.344928              0.000000  \n",
       "25%              0.412122              0.000606  \n",
       "50%              0.444861              0.002267  \n",
       "75%              0.494303              0.008305  \n",
       "max              0.626316              0.127912  "
      ]
     },
     "execution_count": 84,
     "metadata": {},
     "output_type": "execute_result"
    }
   ],
   "source": [
    "df.describe()"
   ]
  },
  {
   "cell_type": "code",
   "execution_count": 85,
   "id": "035ff746",
   "metadata": {},
   "outputs": [],
   "source": [
    "# Split data into 5 equal groups for validation\n",
    "\n",
    "kfold = KFold(n_splits=5, shuffle=True, random_state=42)"
   ]
  },
  {
   "cell_type": "code",
   "execution_count": 86,
   "id": "1f0bf8fa",
   "metadata": {},
   "outputs": [],
   "source": [
    "# Build different models to train on the data\n",
    "\n",
    "models = [LogisticRegression(solver='liblinear'), RandomForestClassifier(n_estimators=400, random_state=42), \n",
    "          DecisionTreeClassifier(random_state=42), svm.SVC(kernel='rbf', gamma='scale', random_state=42), \n",
    "          KNeighborsClassifier()]"
   ]
  },
  {
   "cell_type": "code",
   "execution_count": 87,
   "id": "79612505",
   "metadata": {},
   "outputs": [],
   "source": [
    "# Define target and features\n",
    "id_col = df['id']\n",
    "X = df.drop(['id', 'died'], axis=1) # Features\n",
    "y = df['died'] # Target variable"
   ]
  },
  {
   "cell_type": "code",
   "execution_count": 88,
   "id": "44b4e5cb",
   "metadata": {},
   "outputs": [],
   "source": [
    "# Validate each model using K-fold cross validation\n",
    "\n",
    "mean=[]\n",
    "std=[]\n",
    "for model in models:\n",
    "    result = cross_val_score(model, X, y, cv=kfold, scoring=\"accuracy\", n_jobs=-1)\n",
    "    mean.append(result)\n",
    "    std.append(result)"
   ]
  },
  {
   "cell_type": "code",
   "execution_count": 119,
   "id": "3090e683",
   "metadata": {},
   "outputs": [
    {
     "name": "stderr",
     "output_type": "stream",
     "text": [
      "C:\\ProgramData\\Anaconda3\\lib\\site-packages\\seaborn\\distributions.py:2619: FutureWarning: `distplot` is a deprecated function and will be removed in a future version. Please adapt your code to use either `displot` (a figure-level function with similar flexibility) or `kdeplot` (an axes-level function for kernel density plots).\n",
      "  warnings.warn(msg, FutureWarning)\n",
      "C:\\ProgramData\\Anaconda3\\lib\\site-packages\\seaborn\\distributions.py:2619: FutureWarning: `distplot` is a deprecated function and will be removed in a future version. Please adapt your code to use either `displot` (a figure-level function with similar flexibility) or `kdeplot` (an axes-level function for kernel density plots).\n",
      "  warnings.warn(msg, FutureWarning)\n",
      "C:\\ProgramData\\Anaconda3\\lib\\site-packages\\seaborn\\distributions.py:2619: FutureWarning: `distplot` is a deprecated function and will be removed in a future version. Please adapt your code to use either `displot` (a figure-level function with similar flexibility) or `kdeplot` (an axes-level function for kernel density plots).\n",
      "  warnings.warn(msg, FutureWarning)\n",
      "C:\\ProgramData\\Anaconda3\\lib\\site-packages\\seaborn\\distributions.py:2619: FutureWarning: `distplot` is a deprecated function and will be removed in a future version. Please adapt your code to use either `displot` (a figure-level function with similar flexibility) or `kdeplot` (an axes-level function for kernel density plots).\n",
      "  warnings.warn(msg, FutureWarning)\n",
      "C:\\ProgramData\\Anaconda3\\lib\\site-packages\\seaborn\\distributions.py:2619: FutureWarning: `distplot` is a deprecated function and will be removed in a future version. Please adapt your code to use either `displot` (a figure-level function with similar flexibility) or `kdeplot` (an axes-level function for kernel density plots).\n",
      "  warnings.warn(msg, FutureWarning)\n"
     ]
    },
    {
     "data": {
      "image/png": "[encoded data removed]",
      "text/plain": [
       "<Figure size 720x720 with 1 Axes>"
      ]
     },
     "metadata": {
      "needs_background": "light"
     },
     "output_type": "display_data"
    }
   ],
   "source": [
    "classifiers=['Logistic Regression', 'Random Forest', 'Decision Tree', 'SVM', 'KNN']\n",
    "\n",
    "plt.figure(figsize=(10, 10))\n",
    "for i in range(len(mean)):\n",
    "    sns.distplot(mean[i], hist=False, kde_kws={\"shade\": True})\n",
    "    \n",
    "plt.title(\"Distribution of each classifier's Accuracy-2\", fontsize=15)\n",
    "plt.legend(classifiers)\n",
    "plt.xlabel(\"Accuracy\", labelpad=20)\n",
    "plt.yticks([])\n",
    "\n",
    "plt.show()"
   ]
  },
  {
   "cell_type": "markdown",
   "id": "08273aee",
   "metadata": {},
   "source": [
    "Even with the original dataset, KNN is performing best."
   ]
  },
  {
   "cell_type": "markdown",
   "id": "f2fbd40e",
   "metadata": {},
   "source": [
    "### Turing the SVM model using GridSearch"
   ]
  },
  {
   "cell_type": "code",
   "execution_count": 90,
   "id": "14c6a379",
   "metadata": {},
   "outputs": [
    {
     "name": "stdout",
     "output_type": "stream",
     "text": [
      "Fitting 5 folds for each of 50 candidates, totalling 250 fits\n",
      "0.7438596491228069\n",
      "SVC(C=0.1, gamma=0.1, kernel='linear')\n"
     ]
    }
   ],
   "source": [
    "c = [0.1, 0.3, 0.5, 0.7, 0.9]\n",
    "gamma = [0.1, 0.3, 0.5, 0.7, 0.9]\n",
    "kernel = ['rbf','linear']\n",
    "\n",
    "hyper_parameters = {'kernel': kernel, 'C': c, 'gamma': gamma}\n",
    "\n",
    "gs = GridSearchCV(estimator=svm.SVC(), param_grid=hyper_parameters,verbose=True, cv=kfold, n_jobs=-1)\n",
    "\n",
    "# Find the best hyper-parameters using grid-search (this might take a while)\n",
    "gs.fit(X,y)\n",
    "print(gs.best_score_)\n",
    "print(gs.best_estimator_)"
   ]
  },
  {
   "cell_type": "code",
   "execution_count": 91,
   "id": "0abffc3f",
   "metadata": {},
   "outputs": [],
   "source": [
    "# Split data keeping 80% for training and the rest for test\n",
    "x_train, x_test, y_train, y_test = train_test_split(X, y, test_size=0.2, stratify=y, \n",
    "                                                    shuffle=True, random_state=42)"
   ]
  },
  {
   "cell_type": "code",
   "execution_count": 107,
   "id": "7001d8d6",
   "metadata": {},
   "outputs": [
    {
     "data": {
      "text/html": [
       "<style>#sk-container-id-14 {color: black;background-color: white;}#sk-container-id-14 pre{padding: 0;}#sk-container-id-14 div.sk-toggleable {background-color: white;}#sk-container-id-14 label.sk-toggleable__label {cursor: pointer;display: block;width: 100%;margin-bottom: 0;padding: 0.3em;box-sizing: border-box;text-align: center;}#sk-container-id-14 label.sk-toggleable__label-arrow:before {content: \"▸\";float: left;margin-right: 0.25em;color: #696969;}#sk-container-id-14 label.sk-toggleable__label-arrow:hover:before {color: black;}#sk-container-id-14 div.sk-estimator:hover label.sk-toggleable__label-arrow:before {color: black;}#sk-container-id-14 div.sk-toggleable__content {max-height: 0;max-width: 0;overflow: hidden;text-align: left;background-color: #f0f8ff;}#sk-container-id-14 div.sk-toggleable__content pre {margin: 0.2em;color: black;border-radius: 0.25em;background-color: #f0f8ff;}#sk-container-id-14 input.sk-toggleable__control:checked~div.sk-toggleable__content {max-height: 200px;max-width: 100%;overflow: auto;}#sk-container-id-14 input.sk-toggleable__control:checked~label.sk-toggleable__label-arrow:before {content: \"▾\";}#sk-container-id-14 div.sk-estimator input.sk-toggleable__control:checked~label.sk-toggleable__label {background-color: #d4ebff;}#sk-container-id-14 div.sk-label input.sk-toggleable__control:checked~label.sk-toggleable__label {background-color: #d4ebff;}#sk-container-id-14 input.sk-hidden--visually {border: 0;clip: rect(1px 1px 1px 1px);clip: rect(1px, 1px, 1px, 1px);height: 1px;margin: -1px;overflow: hidden;padding: 0;position: absolute;width: 1px;}#sk-container-id-14 div.sk-estimator {font-family: monospace;background-color: #f0f8ff;border: 1px dotted black;border-radius: 0.25em;box-sizing: border-box;margin-bottom: 0.5em;}#sk-container-id-14 div.sk-estimator:hover {background-color: #d4ebff;}#sk-container-id-14 div.sk-parallel-item::after {content: \"\";width: 100%;border-bottom: 1px solid gray;flex-grow: 1;}#sk-container-id-14 div.sk-label:hover label.sk-toggleable__label {background-color: #d4ebff;}#sk-container-id-14 div.sk-serial::before {content: \"\";position: absolute;border-left: 1px solid gray;box-sizing: border-box;top: 0;bottom: 0;left: 50%;z-index: 0;}#sk-container-id-14 div.sk-serial {display: flex;flex-direction: column;align-items: center;background-color: white;padding-right: 0.2em;padding-left: 0.2em;position: relative;}#sk-container-id-14 div.sk-item {position: relative;z-index: 1;}#sk-container-id-14 div.sk-parallel {display: flex;align-items: stretch;justify-content: center;background-color: white;position: relative;}#sk-container-id-14 div.sk-item::before, #sk-container-id-14 div.sk-parallel-item::before {content: \"\";position: absolute;border-left: 1px solid gray;box-sizing: border-box;top: 0;bottom: 0;left: 50%;z-index: -1;}#sk-container-id-14 div.sk-parallel-item {display: flex;flex-direction: column;z-index: 1;position: relative;background-color: white;}#sk-container-id-14 div.sk-parallel-item:first-child::after {align-self: flex-end;width: 50%;}#sk-container-id-14 div.sk-parallel-item:last-child::after {align-self: flex-start;width: 50%;}#sk-container-id-14 div.sk-parallel-item:only-child::after {width: 0;}#sk-container-id-14 div.sk-dashed-wrapped {border: 1px dashed gray;margin: 0 0.4em 0.5em 0.4em;box-sizing: border-box;padding-bottom: 0.4em;background-color: white;}#sk-container-id-14 div.sk-label label {font-family: monospace;font-weight: bold;display: inline-block;line-height: 1.2em;}#sk-container-id-14 div.sk-label-container {text-align: center;}#sk-container-id-14 div.sk-container {/* jupyter's `normalize.less` sets `[hidden] { display: none; }` but bootstrap.min.css set `[hidden] { display: none !important; }` so we also need the `!important` here to be able to override the default hidden behavior on the sphinx rendered scikit-learn.org. See: https://github.com/scikit-learn/scikit-learn/issues/21755 */display: inline-block !important;position: relative;}#sk-container-id-14 div.sk-text-repr-fallback {display: none;}</style><div id=\"sk-container-id-14\" class=\"sk-top-container\"><div class=\"sk-text-repr-fallback\"><pre>SVC(C=0.1, gamma=0.1, kernel=&#x27;linear&#x27;, probability=True, random_state=42)</pre><b>In a Jupyter environment, please rerun this cell to show the HTML representation or trust the notebook. <br />On GitHub, the HTML representation is unable to render, please try loading this page with nbviewer.org.</b></div><div class=\"sk-container\" hidden><div class=\"sk-item\"><div class=\"sk-estimator sk-toggleable\"><input class=\"sk-toggleable__control sk-hidden--visually\" id=\"sk-estimator-id-14\" type=\"checkbox\" checked><label for=\"sk-estimator-id-14\" class=\"sk-toggleable__label sk-toggleable__label-arrow\">SVC</label><div class=\"sk-toggleable__content\"><pre>SVC(C=0.1, gamma=0.1, kernel=&#x27;linear&#x27;, probability=True, random_state=42)</pre></div></div></div></div></div>"
      ],
      "text/plain": [
       "SVC(C=0.1, gamma=0.1, kernel='linear', probability=True, random_state=42)"
      ]
     },
     "execution_count": 107,
     "metadata": {},
     "output_type": "execute_result"
    }
   ],
   "source": [
    "svm_clf = svm.SVC(C=0.1, gamma=0.1, kernel='linear', probability=True, random_state=42)\n",
    "rf_clf = RandomForestClassifier(n_estimators=400, n_jobs=-1, random_state=42)\n",
    "knn_clf = KNeighborsClassifier(n_neighbors=5)\n",
    "\n",
    "# Train the classfiers\n",
    "svm_clf.fit(x_train, y_train)\n"
   ]
  },
  {
   "cell_type": "code",
   "execution_count": 108,
   "id": "cfc3df78",
   "metadata": {},
   "outputs": [
    {
     "data": {
      "text/html": [
       "<style>#sk-container-id-15 {color: black;background-color: white;}#sk-container-id-15 pre{padding: 0;}#sk-container-id-15 div.sk-toggleable {background-color: white;}#sk-container-id-15 label.sk-toggleable__label {cursor: pointer;display: block;width: 100%;margin-bottom: 0;padding: 0.3em;box-sizing: border-box;text-align: center;}#sk-container-id-15 label.sk-toggleable__label-arrow:before {content: \"▸\";float: left;margin-right: 0.25em;color: #696969;}#sk-container-id-15 label.sk-toggleable__label-arrow:hover:before {color: black;}#sk-container-id-15 div.sk-estimator:hover label.sk-toggleable__label-arrow:before {color: black;}#sk-container-id-15 div.sk-toggleable__content {max-height: 0;max-width: 0;overflow: hidden;text-align: left;background-color: #f0f8ff;}#sk-container-id-15 div.sk-toggleable__content pre {margin: 0.2em;color: black;border-radius: 0.25em;background-color: #f0f8ff;}#sk-container-id-15 input.sk-toggleable__control:checked~div.sk-toggleable__content {max-height: 200px;max-width: 100%;overflow: auto;}#sk-container-id-15 input.sk-toggleable__control:checked~label.sk-toggleable__label-arrow:before {content: \"▾\";}#sk-container-id-15 div.sk-estimator input.sk-toggleable__control:checked~label.sk-toggleable__label {background-color: #d4ebff;}#sk-container-id-15 div.sk-label input.sk-toggleable__control:checked~label.sk-toggleable__label {background-color: #d4ebff;}#sk-container-id-15 input.sk-hidden--visually {border: 0;clip: rect(1px 1px 1px 1px);clip: rect(1px, 1px, 1px, 1px);height: 1px;margin: -1px;overflow: hidden;padding: 0;position: absolute;width: 1px;}#sk-container-id-15 div.sk-estimator {font-family: monospace;background-color: #f0f8ff;border: 1px dotted black;border-radius: 0.25em;box-sizing: border-box;margin-bottom: 0.5em;}#sk-container-id-15 div.sk-estimator:hover {background-color: #d4ebff;}#sk-container-id-15 div.sk-parallel-item::after {content: \"\";width: 100%;border-bottom: 1px solid gray;flex-grow: 1;}#sk-container-id-15 div.sk-label:hover label.sk-toggleable__label {background-color: #d4ebff;}#sk-container-id-15 div.sk-serial::before {content: \"\";position: absolute;border-left: 1px solid gray;box-sizing: border-box;top: 0;bottom: 0;left: 50%;z-index: 0;}#sk-container-id-15 div.sk-serial {display: flex;flex-direction: column;align-items: center;background-color: white;padding-right: 0.2em;padding-left: 0.2em;position: relative;}#sk-container-id-15 div.sk-item {position: relative;z-index: 1;}#sk-container-id-15 div.sk-parallel {display: flex;align-items: stretch;justify-content: center;background-color: white;position: relative;}#sk-container-id-15 div.sk-item::before, #sk-container-id-15 div.sk-parallel-item::before {content: \"\";position: absolute;border-left: 1px solid gray;box-sizing: border-box;top: 0;bottom: 0;left: 50%;z-index: -1;}#sk-container-id-15 div.sk-parallel-item {display: flex;flex-direction: column;z-index: 1;position: relative;background-color: white;}#sk-container-id-15 div.sk-parallel-item:first-child::after {align-self: flex-end;width: 50%;}#sk-container-id-15 div.sk-parallel-item:last-child::after {align-self: flex-start;width: 50%;}#sk-container-id-15 div.sk-parallel-item:only-child::after {width: 0;}#sk-container-id-15 div.sk-dashed-wrapped {border: 1px dashed gray;margin: 0 0.4em 0.5em 0.4em;box-sizing: border-box;padding-bottom: 0.4em;background-color: white;}#sk-container-id-15 div.sk-label label {font-family: monospace;font-weight: bold;display: inline-block;line-height: 1.2em;}#sk-container-id-15 div.sk-label-container {text-align: center;}#sk-container-id-15 div.sk-container {/* jupyter's `normalize.less` sets `[hidden] { display: none; }` but bootstrap.min.css set `[hidden] { display: none !important; }` so we also need the `!important` here to be able to override the default hidden behavior on the sphinx rendered scikit-learn.org. See: https://github.com/scikit-learn/scikit-learn/issues/21755 */display: inline-block !important;position: relative;}#sk-container-id-15 div.sk-text-repr-fallback {display: none;}</style><div id=\"sk-container-id-15\" class=\"sk-top-container\"><div class=\"sk-text-repr-fallback\"><pre>RandomForestClassifier(n_estimators=400, n_jobs=-1, random_state=42)</pre><b>In a Jupyter environment, please rerun this cell to show the HTML representation or trust the notebook. <br />On GitHub, the HTML representation is unable to render, please try loading this page with nbviewer.org.</b></div><div class=\"sk-container\" hidden><div class=\"sk-item\"><div class=\"sk-estimator sk-toggleable\"><input class=\"sk-toggleable__control sk-hidden--visually\" id=\"sk-estimator-id-15\" type=\"checkbox\" checked><label for=\"sk-estimator-id-15\" class=\"sk-toggleable__label sk-toggleable__label-arrow\">RandomForestClassifier</label><div class=\"sk-toggleable__content\"><pre>RandomForestClassifier(n_estimators=400, n_jobs=-1, random_state=42)</pre></div></div></div></div></div>"
      ],
      "text/plain": [
       "RandomForestClassifier(n_estimators=400, n_jobs=-1, random_state=42)"
      ]
     },
     "execution_count": 108,
     "metadata": {},
     "output_type": "execute_result"
    }
   ],
   "source": [
    "rf_clf.fit(x_train, y_train)\n"
   ]
  },
  {
   "cell_type": "code",
   "execution_count": 109,
   "id": "b21e526a",
   "metadata": {},
   "outputs": [
    {
     "data": {
      "text/html": [
       "<style>#sk-container-id-16 {color: black;background-color: white;}#sk-container-id-16 pre{padding: 0;}#sk-container-id-16 div.sk-toggleable {background-color: white;}#sk-container-id-16 label.sk-toggleable__label {cursor: pointer;display: block;width: 100%;margin-bottom: 0;padding: 0.3em;box-sizing: border-box;text-align: center;}#sk-container-id-16 label.sk-toggleable__label-arrow:before {content: \"▸\";float: left;margin-right: 0.25em;color: #696969;}#sk-container-id-16 label.sk-toggleable__label-arrow:hover:before {color: black;}#sk-container-id-16 div.sk-estimator:hover label.sk-toggleable__label-arrow:before {color: black;}#sk-container-id-16 div.sk-toggleable__content {max-height: 0;max-width: 0;overflow: hidden;text-align: left;background-color: #f0f8ff;}#sk-container-id-16 div.sk-toggleable__content pre {margin: 0.2em;color: black;border-radius: 0.25em;background-color: #f0f8ff;}#sk-container-id-16 input.sk-toggleable__control:checked~div.sk-toggleable__content {max-height: 200px;max-width: 100%;overflow: auto;}#sk-container-id-16 input.sk-toggleable__control:checked~label.sk-toggleable__label-arrow:before {content: \"▾\";}#sk-container-id-16 div.sk-estimator input.sk-toggleable__control:checked~label.sk-toggleable__label {background-color: #d4ebff;}#sk-container-id-16 div.sk-label input.sk-toggleable__control:checked~label.sk-toggleable__label {background-color: #d4ebff;}#sk-container-id-16 input.sk-hidden--visually {border: 0;clip: rect(1px 1px 1px 1px);clip: rect(1px, 1px, 1px, 1px);height: 1px;margin: -1px;overflow: hidden;padding: 0;position: absolute;width: 1px;}#sk-container-id-16 div.sk-estimator {font-family: monospace;background-color: #f0f8ff;border: 1px dotted black;border-radius: 0.25em;box-sizing: border-box;margin-bottom: 0.5em;}#sk-container-id-16 div.sk-estimator:hover {background-color: #d4ebff;}#sk-container-id-16 div.sk-parallel-item::after {content: \"\";width: 100%;border-bottom: 1px solid gray;flex-grow: 1;}#sk-container-id-16 div.sk-label:hover label.sk-toggleable__label {background-color: #d4ebff;}#sk-container-id-16 div.sk-serial::before {content: \"\";position: absolute;border-left: 1px solid gray;box-sizing: border-box;top: 0;bottom: 0;left: 50%;z-index: 0;}#sk-container-id-16 div.sk-serial {display: flex;flex-direction: column;align-items: center;background-color: white;padding-right: 0.2em;padding-left: 0.2em;position: relative;}#sk-container-id-16 div.sk-item {position: relative;z-index: 1;}#sk-container-id-16 div.sk-parallel {display: flex;align-items: stretch;justify-content: center;background-color: white;position: relative;}#sk-container-id-16 div.sk-item::before, #sk-container-id-16 div.sk-parallel-item::before {content: \"\";position: absolute;border-left: 1px solid gray;box-sizing: border-box;top: 0;bottom: 0;left: 50%;z-index: -1;}#sk-container-id-16 div.sk-parallel-item {display: flex;flex-direction: column;z-index: 1;position: relative;background-color: white;}#sk-container-id-16 div.sk-parallel-item:first-child::after {align-self: flex-end;width: 50%;}#sk-container-id-16 div.sk-parallel-item:last-child::after {align-self: flex-start;width: 50%;}#sk-container-id-16 div.sk-parallel-item:only-child::after {width: 0;}#sk-container-id-16 div.sk-dashed-wrapped {border: 1px dashed gray;margin: 0 0.4em 0.5em 0.4em;box-sizing: border-box;padding-bottom: 0.4em;background-color: white;}#sk-container-id-16 div.sk-label label {font-family: monospace;font-weight: bold;display: inline-block;line-height: 1.2em;}#sk-container-id-16 div.sk-label-container {text-align: center;}#sk-container-id-16 div.sk-container {/* jupyter's `normalize.less` sets `[hidden] { display: none; }` but bootstrap.min.css set `[hidden] { display: none !important; }` so we also need the `!important` here to be able to override the default hidden behavior on the sphinx rendered scikit-learn.org. See: https://github.com/scikit-learn/scikit-learn/issues/21755 */display: inline-block !important;position: relative;}#sk-container-id-16 div.sk-text-repr-fallback {display: none;}</style><div id=\"sk-container-id-16\" class=\"sk-top-container\"><div class=\"sk-text-repr-fallback\"><pre>KNeighborsClassifier()</pre><b>In a Jupyter environment, please rerun this cell to show the HTML representation or trust the notebook. <br />On GitHub, the HTML representation is unable to render, please try loading this page with nbviewer.org.</b></div><div class=\"sk-container\" hidden><div class=\"sk-item\"><div class=\"sk-estimator sk-toggleable\"><input class=\"sk-toggleable__control sk-hidden--visually\" id=\"sk-estimator-id-16\" type=\"checkbox\" checked><label for=\"sk-estimator-id-16\" class=\"sk-toggleable__label sk-toggleable__label-arrow\">KNeighborsClassifier</label><div class=\"sk-toggleable__content\"><pre>KNeighborsClassifier()</pre></div></div></div></div></div>"
      ],
      "text/plain": [
       "KNeighborsClassifier()"
      ]
     },
     "execution_count": 109,
     "metadata": {},
     "output_type": "execute_result"
    }
   ],
   "source": [
    "knn_clf.fit(x_train, y_train)"
   ]
  },
  {
   "cell_type": "code",
   "execution_count": 110,
   "id": "a3646265",
   "metadata": {},
   "outputs": [],
   "source": [
    "# Get the probability of assigning each sample to either class\n",
    "svm_prob = svm_clf.predict_proba(x_test)\n",
    "rf_prob = rf_clf.predict_proba(x_test)\n",
    "knn_prob = knn_clf.predict_proba(x_test)\n",
    "\n",
    "# Get the actual predictions\n",
    "svm_preds = np.argmax(svm_prob, axis=1)\n",
    "rf_preds = np.argmax(rf_prob, axis=1)\n",
    "knn_preds = np.argmax(knn_prob, axis=1)"
   ]
  },
  {
   "cell_type": "markdown",
   "id": "96a8fc8d",
   "metadata": {},
   "source": [
    "## Performance Comparison"
   ]
  },
  {
   "cell_type": "code",
   "execution_count": 120,
   "id": "68872907",
   "metadata": {
    "scrolled": true
   },
   "outputs": [
    {
     "data": {
      "image/png": "[encoded data removed]",
      "text/plain": [
       "<Figure size 1296x360 with 6 Axes>"
      ]
     },
     "metadata": {
      "needs_background": "light"
     },
     "output_type": "display_data"
    }
   ],
   "source": [
    "cm = confusion_matrix(y_test, svm_preds)\n",
    "cm = cm.astype('float') / cm.sum(axis=1)[:, np.newaxis]\n",
    "cm2 = confusion_matrix(y_test, rf_preds)\n",
    "cm2 = cm2.astype('float') / cm2.sum(axis=1)[: , np.newaxis]\n",
    "cm_knn = confusion_matrix(y_test, knn_preds)\n",
    "cm_knn = cm_knn.astype('float') / cm_knn.sum(axis=1)[: , np.newaxis]\n",
    "\n",
    "classes = [\"Dead\", \"Alive\"]\n",
    "f, ax = plt.subplots(1, 3, figsize=(18, 5))\n",
    "ax[0].set_title(\"Normalized SVM Confusion Matrix\", fontsize=15.)\n",
    "sns.heatmap(pd.DataFrame(cm, index=classes, columns=classes), \n",
    "            cmap='winter', annot=True, fmt='.2f', ax=ax[0]).set(xlabel=\"Predicted Class\", ylabel=\"Actual Class\")\n",
    "\n",
    "ax[1].set_title(\"Normalized Random Forest Confusion Matrix\", fontsize=15.)\n",
    "sns.heatmap(pd.DataFrame(cm2, index=classes, columns=classes), \n",
    "            cmap='winter', annot=True, fmt='.2f', ax=ax[1]).set(xlabel=\"Predicted Class\", \n",
    "                                                                ylabel=\"Actual Class\")\n",
    "ax[2].set_title(\"Normalized KNN Confusion Matrix\", fontsize=15.)\n",
    "sns.heatmap(pd.DataFrame(cm_knn, index=classes, columns=classes), \n",
    "            cmap='winter', annot=True, fmt='.2f', ax=ax[2]).set(xlabel=\"Predicted Class\", \n",
    "                                                                ylabel=\"Actual Class\")\n",
    "plt.show()"
   ]
  },
  {
   "cell_type": "markdown",
   "id": "217ed6fc",
   "metadata": {},
   "source": [
    "Without gender variable, performance of the Random Forest model worsened. Now it is much more people as dead even though they are alive."
   ]
  },
  {
   "cell_type": "code",
   "execution_count": 112,
   "id": "1879114d",
   "metadata": {},
   "outputs": [
    {
     "data": {
      "image/png": "[encoded data removed]",
      "text/plain": [
       "<Figure size 720x720 with 1 Axes>"
      ]
     },
     "metadata": {
      "needs_background": "light"
     },
     "output_type": "display_data"
    }
   ],
   "source": [
    "# Plot ROC curves\n",
    "fig = plt.figure(figsize=(10, 10))\n",
    "plt.plot(*roc_curve(y_test, svm_prob[:, 1])[:2])\n",
    "plt.plot(*roc_curve(y_test, rf_prob[:, 1])[:2])\n",
    "plt.plot(*roc_curve(y_test, knn_prob[:, 1])[:2])\n",
    "plt.legend([\"SVM Classifier\", \"Random Forest Classifier\", \"KNN Classifier\"], loc=\"upper left\")\n",
    "plt.plot((0., 1.), (0., 1.), \"--k\", alpha=.7) \n",
    "plt.xlabel(\"False Positive Rate\", labelpad=20)\n",
    "plt.ylabel(\"True Positive Rate\", labelpad=20)\n",
    "plt.title(\"ROC Curves\", fontsize=10)\n",
    "plt.show()"
   ]
  },
  {
   "cell_type": "code",
   "execution_count": 98,
   "id": "205d8147",
   "metadata": {},
   "outputs": [
    {
     "data": {
      "image/png": "[encoded data removed]",
      "text/plain": [
       "<Figure size 432x288 with 1 Axes>"
      ]
     },
     "metadata": {
      "needs_background": "light"
     },
     "output_type": "display_data"
    }
   ],
   "source": [
    "from sklearn.metrics import precision_recall_curve\n",
    "\n",
    "# Get the precision and recall values for the Random Forest classifier\n",
    "rf_precision, rf_recall, _ = precision_recall_curve(y_test, rf_prob[:, 1])\n",
    "\n",
    "# Plot the precision-recall curve\n",
    "plt.plot(rf_recall, rf_precision, marker='.', label='Random Forest Classifier')\n",
    "\n",
    "# Add labels and title\n",
    "plt.xlabel('Recall')\n",
    "plt.ylabel('Precision')\n",
    "plt.title('Precision-Recall Curve for Random Forest Classifier')\n",
    "\n",
    "# Show the plot\n",
    "plt.show()"
   ]
  },
  {
   "cell_type": "code",
   "execution_count": 113,
   "id": "0c1b5e4a",
   "metadata": {},
   "outputs": [
    {
     "data": {
      "image/png": "[encoded data removed]",
      "text/plain": [
       "<Figure size 432x288 with 1 Axes>"
      ]
     },
     "metadata": {
      "needs_background": "light"
     },
     "output_type": "display_data"
    }
   ],
   "source": [
    "# Get the precision, recall and threshold values for each model\n",
    "svm_precision, svm_recall, svm_threshold = precision_recall_curve(y_test, svm_prob[:, 1])\n",
    "rf_precision, rf_recall, rf_threshold = precision_recall_curve(y_test, rf_prob[:, 1])\n",
    "knn_precision, knn_recall, knn_threshold = precision_recall_curve(y_test, knn_prob[:, 1])\n",
    "\n",
    "# Plot the precision-recall curves for all models\n",
    "plt.plot(svm_recall, svm_precision, label=\"SVM Classifier\")\n",
    "plt.plot(rf_recall, rf_precision, label=\"Random Forest Classifier\")\n",
    "plt.plot(knn_recall, knn_precision, label=\"KNN Classifier\")\n",
    "plt.xlabel(\"Recall\")\n",
    "plt.ylabel(\"Precision\")\n",
    "plt.title(\"Precision-Recall Curves\")\n",
    "plt.legend()\n",
    "plt.show()"
   ]
  },
  {
   "cell_type": "code",
   "execution_count": 114,
   "id": "8a55b42e",
   "metadata": {
    "scrolled": true
   },
   "outputs": [
    {
     "name": "stdout",
     "output_type": "stream",
     "text": [
      "SVM Classifier Performance\n",
      "===========================\n",
      "              precision    recall  f1-score   support\n",
      "\n",
      "        Dead       0.75      0.43      0.55         7\n",
      "       Alive       0.73      0.92      0.81        12\n",
      "\n",
      "    accuracy                           0.74        19\n",
      "   macro avg       0.74      0.67      0.68        19\n",
      "weighted avg       0.74      0.74      0.72        19\n",
      "\n",
      "Accuracy: 0.74\n",
      "AUC score: 0.79\n",
      "\n",
      "\n",
      "Random Forest Classifier Performance\n",
      "=====================================\n",
      "              precision    recall  f1-score   support\n",
      "\n",
      "        Dead       0.62      0.71      0.67         7\n",
      "       Alive       0.82      0.75      0.78        12\n",
      "\n",
      "    accuracy                           0.74        19\n",
      "   macro avg       0.72      0.73      0.72        19\n",
      "weighted avg       0.75      0.74      0.74        19\n",
      "\n",
      "Accuracy: 0.74\n",
      "AUC score: 0.87\n",
      "\n",
      "\n",
      "KNN Classifier Performance\n",
      "===========================\n",
      "              precision    recall  f1-score   support\n",
      "\n",
      "        Dead       0.83      0.71      0.77         7\n",
      "       Alive       0.85      0.92      0.88        12\n",
      "\n",
      "    accuracy                           0.84        19\n",
      "   macro avg       0.84      0.82      0.82        19\n",
      "weighted avg       0.84      0.84      0.84        19\n",
      "\n",
      "Accuracy: 0.84\n",
      "AUC score: 0.83\n",
      "\n",
      "\n"
     ]
    }
   ],
   "source": [
    "# So lets take a look at how each model performs on each metric \n",
    "print(\"SVM Classifier Performance\")\n",
    "print(\"=\" * 27)\n",
    "print(classification_report(y_test, svm_preds, target_names=classes))\n",
    "print(\"Accuracy: {:.2f}\".format(accuracy_score(y_test, svm_preds)))\n",
    "print(\"AUC score: {:.2f}\".format(roc_auc_score(y_test, svm_prob[:, 1])))\n",
    "print(\"\\n\")\n",
    "\n",
    "print(\"Random Forest Classifier Performance\")\n",
    "print(\"=\" * 37)\n",
    "print(classification_report(y_test, rf_preds, target_names=classes))\n",
    "print(\"Accuracy: {:.2f}\".format(accuracy_score(y_test, rf_preds)))\n",
    "print(\"AUC score: {:.2f}\".format(roc_auc_score(y_test, rf_prob[:, 1])))\n",
    "print(\"\\n\")\n",
    "\n",
    "print(\"KNN Classifier Performance\")\n",
    "print(\"=\" * 27)\n",
    "print(classification_report(y_test, knn_preds, target_names=classes))\n",
    "print(\"Accuracy: {:.2f}\".format(accuracy_score(y_test, knn_preds)))\n",
    "print(\"AUC score: {:.2f}\".format(roc_auc_score(y_test, knn_prob[:, 1])))\n",
    "print(\"\\n\")"
   ]
  },
  {
   "cell_type": "code",
   "execution_count": 122,
   "id": "6dc03647",
   "metadata": {},
   "outputs": [
    {
     "data": {
      "image/png": "[encoded data removed]",
      "text/plain": [
       "<Figure size 720x432 with 1 Axes>"
      ]
     },
     "metadata": {
      "needs_background": "light"
     },
     "output_type": "display_data"
    }
   ],
   "source": [
    "importances = rf_clf.feature_importances_\n",
    "indices = np.argsort(importances)\n",
    "\n",
    "plt.figure(figsize=(10,6))\n",
    "plt.barh(range(len(indices)), importances[indices], align='center')\n",
    "plt.yticks(range(len(indices)), [X.columns[i] for i in indices])\n",
    "plt.xlabel('Relative Importance')\n",
    "plt.title('Random Forest Classifier Feature Importances 2', fontsize=12)\n",
    "plt.gca().invert_yaxis()\n",
    "plt.show()"
   ]
  },
  {
   "cell_type": "code",
   "execution_count": 116,
   "id": "5fd81826",
   "metadata": {},
   "outputs": [],
   "source": [
    "#Predict the probability of dying for the entire dataset\n",
    "\n",
    "# SVM model\n",
    "svm_prob = svm_clf.predict_proba(X)[:, 1]\n",
    "\n",
    "# Random Forest model\n",
    "rf_prob = rf_clf.predict_proba(X)[:, 1]\n",
    "\n",
    "# KNN model\n",
    "knn_prob = knn_clf.predict_proba(X)[:, 1]"
   ]
  },
  {
   "cell_type": "code",
   "execution_count": 117,
   "id": "94b66e4a",
   "metadata": {},
   "outputs": [],
   "source": [
    "pd.set_option('display.max_rows', None)"
   ]
  },
  {
   "cell_type": "code",
   "execution_count": 118,
   "id": "2e6da732",
   "metadata": {},
   "outputs": [
    {
     "name": "stdout",
     "output_type": "stream",
     "text": [
      "SVM Results:\n",
      "=============\n",
      "                                 SVM\n",
      "id                                  \n",
      "Ros                         0.765643\n",
      "Alton Lannister             0.757261\n",
      "Olyvar                      0.755645\n",
      "Edmure Tully                0.754269\n",
      "Gilly                       0.750449\n",
      "Khal Moro                   0.742900\n",
      "Rickard Karstark            0.742812\n",
      "Black Walder Frey           0.741531\n",
      "Karsi                       0.741099\n",
      "Lothar Frey                 0.740093\n",
      "Yoren                       0.738611\n",
      "Areo                        0.737226\n",
      "Tyene                       0.736877\n",
      "Gendry                      0.736299\n",
      "Obara                       0.736004\n",
      "Benjen Stark                0.735864\n",
      "Myranda                     0.734815\n",
      "Lancel Lannister            0.733991\n",
      "Syrio Forel                 0.733943\n",
      "Maryn Trant                 0.733880\n",
      "Roose Bolton                0.733136\n",
      "Blackfish Tully             0.733063\n",
      "Walder Frey                 0.729054\n",
      "Septa Mordane               0.728474\n",
      "Ygritte                     0.727884\n",
      "Janos Slynt                 0.723530\n",
      "Trystane Martell            0.722820\n",
      "Loras Tyrell                0.722749\n",
      "Robin Arryn                 0.720400\n",
      "Shae                        0.717529\n",
      "Three-Eyedd Raven           0.713694\n",
      "Doran Martell               0.713537\n",
      "Mace Tyrell                 0.710935\n",
      "Yara Greyjoy                0.708553\n",
      "Myrcella Baratheon          0.706962\n",
      "Qyburn                      0.703700\n",
      "Rickon Stark                0.702011\n",
      "Olenna Tyrell               0.700566\n",
      "Grand Maester Pycelle       0.698487\n",
      "Jojen                       0.698424\n",
      "Jory Cassel                 0.697699\n",
      "Doreah                      0.697346\n",
      "Tywin Lannister             0.696375\n",
      "Sandor Clegane              0.695292\n",
      "Dolorous Edd                0.695008\n",
      "Kevan Lannister             0.692003\n",
      "Maester Luwin               0.690751\n",
      "Podrick                     0.684338\n",
      "Tommen                      0.682359\n",
      "Rakharo                     0.680277\n",
      "Osha                        0.678123\n",
      "Viserys Targaryen           0.675131\n",
      "Irri                        0.670360\n",
      "Jeor Mormont                0.669736\n",
      "Hodor                       0.668185\n",
      "Jaqen                       0.666644\n",
      "Robert Baratheon            0.664982\n",
      "Greatjon Umber              0.659669\n",
      "Joffrey Baratheon           0.659045\n",
      "Ramsay Bolton               0.658910\n",
      "Barristan Selmy             0.658736\n",
      "Renly Baratheon             0.658012\n",
      "Margaery Tyrell             0.653467\n",
      "Edd                         0.651910\n",
      "Brienne                     0.647965\n",
      "Pyp                         0.644767\n",
      "High Sparrow                0.638116\n",
      "Rodrik Cassel               0.631012\n",
      "Hizdahr Zo Loraq            0.622250\n",
      "Brandon Stark               0.611005\n",
      "Melisandre                  0.605423\n",
      "Tormund                     0.571402\n",
      "Bronn                       0.562022\n",
      "Missandei                   0.556986\n",
      "Stannis Baratheon           0.553029\n",
      "Daario Naharis              0.539218\n",
      "Samwell Tarly               0.536422\n",
      "Grey Worm                   0.521447\n",
      "Petyr Baelish               0.461779\n",
      "Alliser Thorne              0.461700\n",
      "Varys                       0.461245\n",
      "Arya Stark                  0.435979\n",
      "Davos                       0.427139\n",
      "Robb Stark                  0.409747\n",
      "Jorah Mormont               0.406004\n",
      "Theon Greyjoy               0.389408\n",
      "Daenerys Targaryen          0.379238\n",
      "Jaime Lannister             0.379179\n",
      "Catelyn Stark Tully         0.352696\n",
      "Eddard Stark                0.295364\n",
      "Sansa Stark                 0.217037\n",
      "Cersei Lannister Baratheon  0.195184\n",
      "Tyrion Lannister            0.114157\n",
      "Jon Snow Stark              0.041767\n",
      "\n",
      "\n",
      "Random Forest Results:\n",
      "=======================\n",
      "                            Random Forest\n",
      "id                                       \n",
      "Jojen                              0.9825\n",
      "Loras Tyrell                       0.9775\n",
      "Lothar Frey                        0.9725\n",
      "Lancel Lannister                   0.9700\n",
      "Kevan Lannister                    0.9700\n",
      "Viserys Targaryen                  0.9675\n",
      "Irri                               0.9650\n",
      "Myranda                            0.9625\n",
      "Renly Baratheon                    0.9575\n",
      "Mace Tyrell                        0.9525\n",
      "Myrcella Baratheon                 0.9525\n",
      "Ros                                0.9500\n",
      "Benjen Stark                       0.9475\n",
      "Karsi                              0.9400\n",
      "Tywin Lannister                    0.9400\n",
      "Khal Moro                          0.9375\n",
      "High Sparrow                       0.9300\n",
      "Walder Frey                        0.9275\n",
      "Margaery Tyrell                    0.9275\n",
      "Robert Baratheon                   0.9250\n",
      "Pyp                                0.9250\n",
      "Greatjon Umber                     0.9225\n",
      "Septa Mordane                      0.9225\n",
      "Jory Cassel                        0.9150\n",
      "Rakharo                            0.9150\n",
      "Olyvar                             0.9125\n",
      "Tommen                             0.9100\n",
      "Barristan Selmy                    0.8900\n",
      "Blackfish Tully                    0.8875\n",
      "Rickon Stark                       0.8875\n",
      "Hizdahr Zo Loraq                   0.8775\n",
      "Rickard Karstark                   0.8700\n",
      "Shae                               0.8650\n",
      "Joffrey Baratheon                  0.8575\n",
      "Maryn Trant                        0.8550\n",
      "Three-Eyedd Raven                  0.8550\n",
      "Trystane Martell                   0.8550\n",
      "Hodor                              0.8500\n",
      "Eddard Stark                       0.8450\n",
      "Doreah                             0.8300\n",
      "Maester Luwin                      0.8250\n",
      "Areo                               0.8225\n",
      "Syrio Forel                        0.8175\n",
      "Grand Maester Pycelle              0.8125\n",
      "Robin Arryn                        0.8000\n",
      "Roose Bolton                       0.7900\n",
      "Black Walder Frey                  0.7825\n",
      "Edd                                0.7700\n",
      "Alton Lannister                    0.7675\n",
      "Ygritte                            0.7600\n",
      "Yoren                              0.7550\n",
      "Catelyn Stark Tully                0.7525\n",
      "Ramsay Bolton                      0.7275\n",
      "Stannis Baratheon                  0.7250\n",
      "Doran Martell                      0.7175\n",
      "Rodrik Cassel                      0.7125\n",
      "Osha                               0.7050\n",
      "Robb Stark                         0.6950\n",
      "Qyburn                             0.5150\n",
      "Janos Slynt                        0.4925\n",
      "Jeor Mormont                       0.4925\n",
      "Daario Naharis                     0.4850\n",
      "Petyr Baelish                      0.3550\n",
      "Podrick                            0.3500\n",
      "Grey Worm                          0.3225\n",
      "Olenna Tyrell                      0.3200\n",
      "Obara                              0.3150\n",
      "Tyene                              0.3025\n",
      "Brienne                            0.2975\n",
      "Dolorous Edd                       0.2850\n",
      "Jaqen                              0.2800\n",
      "Edmure Tully                       0.2600\n",
      "Alliser Thorne                     0.2575\n",
      "Gendry                             0.2575\n",
      "Gilly                              0.2550\n",
      "Melisandre                         0.2550\n",
      "Missandei                          0.2550\n",
      "Varys                              0.2325\n",
      "Samwell Tarly                      0.2325\n",
      "Arya Stark                         0.2325\n",
      "Sandor Clegane                     0.2200\n",
      "Theon Greyjoy                      0.2175\n",
      "Bronn                              0.1625\n",
      "Yara Greyjoy                       0.1600\n",
      "Davos                              0.1525\n",
      "Tormund                            0.1425\n",
      "Jorah Mormont                      0.1350\n",
      "Brandon Stark                      0.1300\n",
      "Cersei Lannister Baratheon         0.0725\n",
      "Daenerys Targaryen                 0.0550\n",
      "Jaime Lannister                    0.0500\n",
      "Jon Snow Stark                     0.0475\n",
      "Tyrion Lannister                   0.0325\n",
      "Sansa Stark                        0.0325\n",
      "\n",
      "\n",
      "KNN Results:\n",
      "=============\n",
      "                            KNN\n",
      "id                             \n",
      "Trystane Martell            1.0\n",
      "Pyp                         1.0\n",
      "Doran Martell               1.0\n",
      "Myranda                     0.8\n",
      "Mace Tyrell                 0.8\n",
      "Irri                        0.8\n",
      "Obara                       0.8\n",
      "Areo                        0.8\n",
      "Sandor Clegane              0.8\n",
      "Myrcella Baratheon          0.8\n",
      "Three-Eyedd Raven           0.8\n",
      "Benjen Stark                0.8\n",
      "Gendry                      0.8\n",
      "Jeor Mormont                0.8\n",
      "Septa Mordane               0.8\n",
      "Walder Frey                 0.8\n",
      "Greatjon Umber              0.8\n",
      "Qyburn                      0.8\n",
      "Gilly                       0.8\n",
      "Olenna Tyrell               0.8\n",
      "Brienne                     0.8\n",
      "Dolorous Edd                0.8\n",
      "Tyene                       0.8\n",
      "Doreah                      0.8\n",
      "Edmure Tully                0.8\n",
      "Kevan Lannister             0.8\n",
      "Jaqen                       0.8\n",
      "Lothar Frey                 0.8\n",
      "Shae                        0.8\n",
      "Robert Baratheon            0.8\n",
      "Margaery Tyrell             0.8\n",
      "Jojen                       0.8\n",
      "Tommen                      0.8\n",
      "Tywin Lannister             0.8\n",
      "Loras Tyrell                0.8\n",
      "Maester Luwin               0.8\n",
      "Ramsay Bolton               0.8\n",
      "Black Walder Frey           0.8\n",
      "Viserys Targaryen           0.8\n",
      "Rickon Stark                0.8\n",
      "Rakharo                     0.8\n",
      "Janos Slynt                 0.8\n",
      "Edd                         0.8\n",
      "Lancel Lannister            0.8\n",
      "Jory Cassel                 0.8\n",
      "Yoren                       0.8\n",
      "Grand Maester Pycelle       0.8\n",
      "Roose Bolton                0.8\n",
      "Blackfish Tully             0.8\n",
      "High Sparrow                0.8\n",
      "Renly Baratheon             0.8\n",
      "Ygritte                     0.6\n",
      "Ros                         0.6\n",
      "Podrick                     0.6\n",
      "Rodrik Cassel               0.6\n",
      "Barristan Selmy             0.6\n",
      "Catelyn Stark Tully         0.6\n",
      "Syrio Forel                 0.6\n",
      "Tormund                     0.6\n",
      "Olyvar                      0.6\n",
      "Melisandre                  0.6\n",
      "Hodor                       0.6\n",
      "Osha                        0.6\n",
      "Joffrey Baratheon           0.6\n",
      "Eddard Stark                0.6\n",
      "Khal Moro                   0.6\n",
      "Hizdahr Zo Loraq            0.6\n",
      "Brandon Stark               0.6\n",
      "Alton Lannister             0.6\n",
      "Karsi                       0.6\n",
      "Yara Greyjoy                0.6\n",
      "Robin Arryn                 0.6\n",
      "Maryn Trant                 0.6\n",
      "Rickard Karstark            0.6\n",
      "Stannis Baratheon           0.4\n",
      "Grey Worm                   0.4\n",
      "Jaime Lannister             0.4\n",
      "Daario Naharis              0.4\n",
      "Cersei Lannister Baratheon  0.4\n",
      "Missandei                   0.4\n",
      "Sansa Stark                 0.4\n",
      "Robb Stark                  0.2\n",
      "Jorah Mormont               0.2\n",
      "Varys                       0.2\n",
      "Arya Stark                  0.2\n",
      "Alliser Thorne              0.2\n",
      "Samwell Tarly               0.2\n",
      "Tyrion Lannister            0.2\n",
      "Davos                       0.2\n",
      "Bronn                       0.2\n",
      "Jon Snow Stark              0.2\n",
      "Theon Greyjoy               0.2\n",
      "Petyr Baelish               0.2\n",
      "Daenerys Targaryen          0.0\n",
      "\n",
      "\n"
     ]
    }
   ],
   "source": [
    "# Create a DataFrame to store the results\n",
    "#results_df = pd.DataFrame(index=y_test['id'], columns=[\"SVM\", \"Random Forest\", \"KNN\"])\n",
    "\n",
    "# Create a DataFrame to store the results\n",
    "results_df = pd.DataFrame(index=id_col[X.index], columns=[\"SVM\", \"Random Forest\", \"KNN\"])\n",
    "\n",
    "# Fill the DataFrame with the probability of death for each model\n",
    "results_df[\"SVM\"] = svm_prob\n",
    "results_df[\"Random Forest\"] = rf_prob\n",
    "results_df[\"KNN\"] = knn_prob\n",
    "\n",
    "# Print the results for each model\n",
    "print(\"SVM Results:\")\n",
    "print(\"=\" * 13)\n",
    "print(results_df.sort_values(by=[\"SVM\"], ascending=False)[[\"SVM\"]])\n",
    "print(\"\\n\")\n",
    "\n",
    "print(\"Random Forest Results:\")\n",
    "print(\"=\" * 23)\n",
    "print(results_df.sort_values(by=[\"Random Forest\"], ascending=False)[[\"Random Forest\"]])\n",
    "print(\"\\n\")\n",
    "\n",
    "print(\"KNN Results:\")\n",
    "print(\"=\" * 13)\n",
    "print(results_df.sort_values(by=[\"KNN\"], ascending=False)[[\"KNN\"]])\n",
    "print(\"\\n\")"
   ]
  },
  {
   "cell_type": "code",
   "execution_count": null,
   "id": "e0dabf21",
   "metadata": {},
   "outputs": [],
   "source": []
  }
 ],
 "metadata": {
  "kernelspec": {
   "display_name": "Python 3 (ipykernel)",
   "language": "python",
   "name": "python3"
  },
  "language_info": {
   "codemirror_mode": {
    "name": "ipython",
    "version": 3
   },
   "file_extension": ".py",
   "mimetype": "text/x-python",
   "name": "python",
   "nbconvert_exporter": "python",
   "pygments_lexer": "ipython3",
   "version": "3.9.7"
  }
 },
 "nbformat": 4,
 "nbformat_minor": 5
}
